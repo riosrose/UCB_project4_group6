{
 "cells": [
  {
   "cell_type": "markdown",
   "metadata": {},
   "source": [
    "# ETL\n",
    "Load necessary libraries and movies metadata csv"
   ]
  },
  {
   "cell_type": "code",
   "execution_count": 30,
   "metadata": {},
   "outputs": [],
   "source": [
    "import pandas as pd\n",
    "import json\n",
    "\n",
    "# Load the dataset\n",
    "file_path = 'data/tmdb_5000_movies.csv'\n",
    "df = pd.read_csv(file_path)"
   ]
  },
  {
   "cell_type": "markdown",
   "metadata": {},
   "source": [
    "Drop non-relevant columns and drop columns being parsed out into separate new dataframes"
   ]
  },
  {
   "cell_type": "code",
   "execution_count": 31,
   "metadata": {},
   "outputs": [],
   "source": [
    "# Drop the specified columns\n",
    "df = df.drop(columns=['homepage', 'original_title', 'production_countries', 'spoken_languages'])\n",
    "\n",
    "# Drop the fields that have been parsed out to new DataFrames (genres, keywords, production_companies)\n",
    "movie_metadata_df = df.drop(columns=['genres', 'keywords', 'production_companies'])"
   ]
  },
  {
   "cell_type": "markdown",
   "metadata": {},
   "source": [
    "Format currency related columns into dollar format, vote count to thousands format, popularity score to single decimal point, and filter dataset where status = 'Released'"
   ]
  },
  {
   "cell_type": "code",
   "execution_count": 32,
   "metadata": {},
   "outputs": [],
   "source": [
    "# Format the 'budget' and 'revenue' fields as currency using string formatting\n",
    "movie_metadata_df['budget'] = movie_metadata_df['budget'].apply(lambda x: f\"${x:,.0f}\" if pd.notnull(x) else x)\n",
    "movie_metadata_df['revenue'] = movie_metadata_df['revenue'].apply(lambda x: f\"${x:,.0f}\" if pd.notnull(x) else x)\n",
    "\n",
    "# Format the 'vote_count' field to thousands (K) format\n",
    "movie_metadata_df['vote_count'] = movie_metadata_df['vote_count'].apply(lambda x: f\"{x/1000:.1f}K\" if pd.notnull(x) else x)\n",
    "\n",
    "# Format the 'popularity' field to one decimal point\n",
    "movie_metadata_df['popularity'] = movie_metadata_df['popularity'].apply(lambda x: f\"{x:.1f}\" if pd.notnull(x) else x)\n",
    "\n",
    "# Filter the DataFrame where 'status' is 'Released' and keep the name 'movie_metadata_df'\n",
    "movie_metadata_df = movie_metadata_df[movie_metadata_df['status'] == 'Released']"
   ]
  },
  {
   "cell_type": "markdown",
   "metadata": {},
   "source": [
    "Parse out ID and Name from genre, keywords, production company fields in dataset into column format and create separate dataframes. Keep movie_ID as primary key to join to other dataframes. Drop any records with missing data."
   ]
  },
  {
   "cell_type": "code",
   "execution_count": 33,
   "metadata": {},
   "outputs": [
    {
     "name": "stdout",
     "output_type": "stream",
     "text": [
      "Genres DataFrame:\n",
      "   movie_id  genre_id       genre_name\n",
      "0   19995.0      28.0           Action\n",
      "1   19995.0      12.0        Adventure\n",
      "2   19995.0      14.0          Fantasy\n",
      "3   19995.0     878.0  Science Fiction\n",
      "4     285.0      12.0        Adventure\n",
      "\n",
      "Keywords DataFrame:\n",
      "   movie_id  keyword_id   keyword_name\n",
      "0   19995.0      1463.0  culture clash\n",
      "1   19995.0      2964.0         future\n",
      "2   19995.0      3386.0      space war\n",
      "3   19995.0      3388.0   space colony\n",
      "4   19995.0      3679.0        society\n",
      "\n",
      "Production Companies DataFrame:\n",
      "   movie_id  company_id                            company_name\n",
      "0   19995.0       289.0                 Ingenious Film Partners\n",
      "1   19995.0       306.0  Twentieth Century Fox Film Corporation\n",
      "2   19995.0       444.0                      Dune Entertainment\n",
      "3   19995.0       574.0                Lightstorm Entertainment\n",
      "4     285.0         2.0                    Walt Disney Pictures\n",
      "Movie Metadata DataFrame:\n",
      "         budget      id original_language  \\\n",
      "0  $237,000,000   19995                en   \n",
      "1  $300,000,000     285                en   \n",
      "2  $245,000,000  206647                en   \n",
      "3  $250,000,000   49026                en   \n",
      "4  $260,000,000   49529                en   \n",
      "\n",
      "                                            overview popularity release_date  \\\n",
      "0  In the 22nd century, a paraplegic Marine is di...      150.4   2009-12-10   \n",
      "1  Captain Barbossa, long believed to be dead, ha...      139.1   2007-05-19   \n",
      "2  A cryptic message from Bond’s past sends him o...      107.4   2015-10-26   \n",
      "3  Following the death of District Attorney Harve...      112.3   2012-07-16   \n",
      "4  John Carter is a war-weary, former military ca...       43.9   2012-03-07   \n",
      "\n",
      "          revenue  runtime    status  \\\n",
      "0  $2,787,965,087    162.0  Released   \n",
      "1    $961,000,000    169.0  Released   \n",
      "2    $880,674,609    148.0  Released   \n",
      "3  $1,084,939,099    165.0  Released   \n",
      "4    $284,139,100    132.0  Released   \n",
      "\n",
      "                                          tagline  \\\n",
      "0                     Enter the World of Pandora.   \n",
      "1  At the end of the world, the adventure begins.   \n",
      "2                           A Plan No One Escapes   \n",
      "3                                 The Legend Ends   \n",
      "4            Lost in our world, found in another.   \n",
      "\n",
      "                                      title  vote_average vote_count  \n",
      "0                                    Avatar           7.2      11.8K  \n",
      "1  Pirates of the Caribbean: At World's End           6.9       4.5K  \n",
      "2                                   Spectre           6.3       4.5K  \n",
      "3                     The Dark Knight Rises           7.6       9.1K  \n",
      "4                               John Carter           6.1       2.1K  \n"
     ]
    }
   ],
   "source": [
    "# Function to parse the 'genres' column and create separate rows for each genre\n",
    "def parse_genres(row):\n",
    "    try:\n",
    "        # Parse the JSON string from the 'genres' column\n",
    "        genres = json.loads(row['genres'])\n",
    "        # Create a list of tuples (movie_id, genre_id, genre_name)\n",
    "        return [(row['id'], genre['id'], genre['name']) for genre in genres]\n",
    "    except json.JSONDecodeError:\n",
    "        return []\n",
    "\n",
    "# Function to parse the 'keywords' column and create separate rows for each keyword\n",
    "def parse_keywords(row):\n",
    "    try:\n",
    "        # Parse the JSON string from the 'keywords' column\n",
    "        keywords = json.loads(row['keywords'])\n",
    "        # Create a list of tuples (movie_id, keyword_id, keyword_name)\n",
    "        return [(row['id'], keyword['id'], keyword['name']) for keyword in keywords]\n",
    "    except json.JSONDecodeError:\n",
    "        return []\n",
    "\n",
    "# Function to parse the 'production_companies' column and create separate rows for each company\n",
    "def parse_production_companies(row):\n",
    "    try:\n",
    "        # Parse the JSON string from the 'production_companies' column\n",
    "        companies = json.loads(row['production_companies'])\n",
    "        # Create a list of tuples (movie_id, company_id, company_name)\n",
    "        return [(row['id'], company['id'], company['name']) for company in companies]\n",
    "    except json.JSONDecodeError:\n",
    "        return []\n",
    "\n",
    "# Apply the parsing functions to the 'genres', 'keywords', and 'production_companies' columns\n",
    "genres_list = df.apply(parse_genres, axis=1).explode()\n",
    "keywords_list = df.apply(parse_keywords, axis=1).explode()\n",
    "companies_list = df.apply(parse_production_companies, axis=1).explode()\n",
    "\n",
    "# Create new DataFrames from the parsed lists\n",
    "genre_df = pd.DataFrame(genres_list.tolist(), columns=['movie_id', 'genre_id', 'genre_name'])\n",
    "keyword_df = pd.DataFrame(keywords_list.tolist(), columns=['movie_id', 'keyword_id', 'keyword_name'])\n",
    "production_company_df = pd.DataFrame(companies_list.tolist(), columns=['movie_id', 'company_id', 'company_name'])\n",
    "\n",
    "# Drop any rows with missing data (in case of malformed or missing information)\n",
    "genre_df.dropna(inplace=True)\n",
    "keyword_df.dropna(inplace=True)\n",
    "production_company_df.dropna(inplace=True)\n",
    "\n",
    "# Display the first few rows of the new DataFrames\n",
    "print(\"Genres DataFrame:\")\n",
    "print(genre_df.head())\n",
    "\n",
    "print(\"\\nKeywords DataFrame:\")\n",
    "print(keyword_df.head())\n",
    "\n",
    "print(\"\\nProduction Companies DataFrame:\")\n",
    "print(production_company_df.head())\n",
    "\n",
    "print(\"Movie Metadata DataFrame:\")\n",
    "print(movie_metadata_df.head())"
   ]
  },
  {
   "cell_type": "markdown",
   "metadata": {},
   "source": [
    "Load Oscar award cdv dataset"
   ]
  },
  {
   "cell_type": "code",
   "execution_count": 35,
   "metadata": {},
   "outputs": [
    {
     "name": "stdout",
     "output_type": "stream",
     "text": [
      "   Unnamed: 0                 Film Oscar Year Film Studio/Producer(s)  \\\n",
      "0           0                Wings    1927/28    Famous Players-Lasky   \n",
      "1           1           7th Heaven    1927/28                     Fox   \n",
      "2           2           The Racket    1927/28       The Caddo Company   \n",
      "3           3  The Broadway Melody    1928/29     Metro-Goldwyn-Mayer   \n",
      "4           4                Alibi    1928/29     Feature Productions   \n",
      "\n",
      "     Award  Year of Release  Movie Time            Movie Genre  IMDB Rating  \\\n",
      "0   Winner             1927         144      Drama,Romance,War          7.5   \n",
      "1  Nominee             1927         110          Drama,Romance          7.7   \n",
      "2  Nominee             1928          84  Crime,Drama,Film-Noir          6.7   \n",
      "3   Winner             1929         100  Drama,Musical,Romance          5.7   \n",
      "4  Nominee             1929          91   Action,Crime,Romance          5.8   \n",
      "\n",
      "  IMDB Votes  ... Tomatometer Status Tomatometer Rating Tomatometer Count  \\\n",
      "0     12,221  ...    Certified-Fresh               93.0              46.0   \n",
      "1      3,439  ...                NaN                NaN               NaN   \n",
      "2      1,257  ...                NaN                NaN               NaN   \n",
      "3      6,890  ...             Rotten               33.0              24.0   \n",
      "4        765  ...                NaN                NaN               NaN   \n",
      "\n",
      "  Audience Status Audience Rating Audience Count  \\\n",
      "0         Upright            78.0         3530.0   \n",
      "1             NaN             NaN            NaN   \n",
      "2             NaN             NaN            NaN   \n",
      "3         Spilled            21.0         1813.0   \n",
      "4             NaN             NaN            NaN   \n",
      "\n",
      "  Tomatometer Top Critics Count Tomatometer Fresh Critics Count  \\\n",
      "0                           9.0                            43.0   \n",
      "1                           NaN                             NaN   \n",
      "2                           NaN                             NaN   \n",
      "3                           7.0                             8.0   \n",
      "4                           NaN                             NaN   \n",
      "\n",
      "  Tomatometer Rotten Critics Count                               Film ID  \n",
      "0                              3.0  2becf7d5-a3de-46ab-ae45-abdd6b588067  \n",
      "1                              NaN  19ed3295-a878-4fd2-8e60-5cd7b5f93dad  \n",
      "2                              NaN  3111c2d8-0908-4093-8ff3-99c89f2f2f08  \n",
      "3                             16.0  de063f3f-2d35-4e1c-8636-6eb4c16bd236  \n",
      "4                              NaN  609887c2-877c-43a4-b88c-e40e31096a98  \n",
      "\n",
      "[5 rows x 30 columns]\n"
     ]
    }
   ],
   "source": [
    "# Define the file path based on your working directory\n",
    "file_path = 'data/oscars_df.csv'\n",
    "\n",
    "# Load the CSV file into a new DataFrame\n",
    "oscars_df = pd.read_csv(file_path)\n",
    "\n",
    "# Display the first few rows of the DataFrame to confirm it's loaded correctly\n",
    "print(oscars_df.head())\n"
   ]
  },
  {
   "cell_type": "markdown",
   "metadata": {},
   "source": [
    "Merge the oscar dataset with the movies metadata dataframe. Add a new column in the movie metadata dataframe called Award."
   ]
  },
  {
   "cell_type": "code",
   "execution_count": 41,
   "metadata": {},
   "outputs": [
    {
     "name": "stdout",
     "output_type": "stream",
     "text": [
      "         budget      id original_language  \\\n",
      "0  $237,000,000   19995                en   \n",
      "1  $300,000,000     285                en   \n",
      "2  $245,000,000  206647                en   \n",
      "3  $250,000,000   49026                en   \n",
      "4  $260,000,000   49529                en   \n",
      "\n",
      "                                            overview popularity release_date  \\\n",
      "0  In the 22nd century, a paraplegic Marine is di...      150.4   2009-12-10   \n",
      "1  Captain Barbossa, long believed to be dead, ha...      139.1   2007-05-19   \n",
      "2  A cryptic message from Bond’s past sends him o...      107.4   2015-10-26   \n",
      "3  Following the death of District Attorney Harve...      112.3   2012-07-16   \n",
      "4  John Carter is a war-weary, former military ca...       43.9   2012-03-07   \n",
      "\n",
      "          revenue  runtime    status  \\\n",
      "0  $2,787,965,087    162.0  Released   \n",
      "1    $961,000,000    169.0  Released   \n",
      "2    $880,674,609    148.0  Released   \n",
      "3  $1,084,939,099    165.0  Released   \n",
      "4    $284,139,100    132.0  Released   \n",
      "\n",
      "                                          tagline  \\\n",
      "0                     Enter the World of Pandora.   \n",
      "1  At the end of the world, the adventure begins.   \n",
      "2                           A Plan No One Escapes   \n",
      "3                                 The Legend Ends   \n",
      "4            Lost in our world, found in another.   \n",
      "\n",
      "                                      title  vote_average vote_count  Award_x  \\\n",
      "0                                    Avatar           7.2      11.8K  Nominee   \n",
      "1  Pirates of the Caribbean: At World's End           6.9       4.5K      NaN   \n",
      "2                                   Spectre           6.3       4.5K      NaN   \n",
      "3                     The Dark Knight Rises           7.6       9.1K      NaN   \n",
      "4                               John Carter           6.1       2.1K      NaN   \n",
      "\n",
      "   Award_y    Award  \n",
      "0  Nominee  Nominee  \n",
      "1      NaN      NaN  \n",
      "2      NaN      NaN  \n",
      "3      NaN      NaN  \n",
      "4      NaN      NaN  \n"
     ]
    }
   ],
   "source": [
    "# Perform the merge/join operation, matching 'Film' from oscar_df with 'title' from movie_metadata_df\n",
    "# Only the 'award' column from oscar_df will be added to movie_metadata_df\n",
    "movie_metadata_df = movie_metadata_df.merge(oscars_df[['Film', 'Award']], \n",
    "                                            how='left', \n",
    "                                            left_on='title', \n",
    "                                            right_on='Film')\n",
    "\n",
    "# Drop the 'Film' column from the merge (since it's the same as 'title')\n",
    "movie_metadata_df = movie_metadata_df.drop(columns=['Film'])\n",
    "\n",
    "# Ensure 'award' is the last column\n",
    "award_column = movie_metadata_df.pop('Award')\n",
    "movie_metadata_df['Award'] = award_column\n",
    "\n",
    "# Display the first few rows of the updated DataFrame\n",
    "print(movie_metadata_df.head())"
   ]
  },
  {
   "cell_type": "markdown",
   "metadata": {},
   "source": [
    "Load the credits parquet file. Parse out the cast field with only the first ID and name in the string and create new columns along with the movie_id and title columns. Create a new dataframe. "
   ]
  },
  {
   "cell_type": "code",
   "execution_count": 44,
   "metadata": {},
   "outputs": [
    {
     "name": "stdout",
     "output_type": "stream",
     "text": [
      "   movie_id                                     title  cast_id  \\\n",
      "0     19995                                    Avatar  65731.0   \n",
      "1       285  Pirates of the Caribbean: At World's End     85.0   \n",
      "2    206647                                   Spectre   8784.0   \n",
      "3     49026                     The Dark Knight Rises   3894.0   \n",
      "4     49529                               John Carter  60900.0   \n",
      "\n",
      "         cast_name  \n",
      "0  Sam Worthington  \n",
      "1      Johnny Depp  \n",
      "2     Daniel Craig  \n",
      "3   Christian Bale  \n",
      "4    Taylor Kitsch  \n"
     ]
    }
   ],
   "source": [
    "# Load the parquet file\n",
    "file_path = 'data/credits_5000.parquet'\n",
    "credits_df = pd.read_parquet(file_path)\n",
    "\n",
    "# Function to parse the 'cast' column and extract only the first 'id' and 'name'\n",
    "def parse_first_cast(row):\n",
    "    try:\n",
    "        # Parse the JSON string from the 'cast' column\n",
    "        cast_list = json.loads(row['cast'])\n",
    "        if cast_list:\n",
    "            # Return the first cast member's id and name\n",
    "            return (row['movie_id'], row['title'], cast_list[0]['id'], cast_list[0]['name'])\n",
    "        else:\n",
    "            return (row['movie_id'], row['title'], None, None)\n",
    "    except (json.JSONDecodeError, IndexError):\n",
    "        return (row['movie_id'], row['title'], None, None)\n",
    "\n",
    "# Apply the parsing function to extract only the first cast member\n",
    "first_cast_list = credits_df.apply(parse_first_cast, axis=1)\n",
    "\n",
    "# Create a new DataFrame from the parsed cast list and rename it to 'credits_df'\n",
    "credits_df = pd.DataFrame(first_cast_list.tolist(), columns=['movie_id', 'title', 'cast_id', 'cast_name'])\n",
    "\n",
    "# Drop any rows with missing data (if any)\n",
    "credits_df.dropna(inplace=True)\n",
    "\n",
    "# Display the first few rows of the new DataFrame\n",
    "print(credits_df.head())"
   ]
  }
 ],
 "metadata": {
  "kernelspec": {
   "display_name": "Python 3",
   "language": "python",
   "name": "python3"
  },
  "language_info": {
   "codemirror_mode": {
    "name": "ipython",
    "version": 3
   },
   "file_extension": ".py",
   "mimetype": "text/x-python",
   "name": "python",
   "nbconvert_exporter": "python",
   "pygments_lexer": "ipython3",
   "version": "3.12.7"
  }
 },
 "nbformat": 4,
 "nbformat_minor": 2
}
